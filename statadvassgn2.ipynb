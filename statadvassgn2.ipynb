{
  "nbformat": 4,
  "nbformat_minor": 0,
  "metadata": {
    "colab": {
      "provenance": []
    },
    "kernelspec": {
      "name": "python3",
      "display_name": "Python 3"
    },
    "language_info": {
      "name": "python"
    }
  },
  "cells": [
    {
      "cell_type": "markdown",
      "source": [
        "Q.1 What is hypothesis testing in statistics?\n",
        "\n",
        "Ans- Hypothesis testing in statistics is a method for making inferences about a population by examining data from a sample. It involves formulating a null hypothesis (a statement about the population) and an alternative hypothesis (a competing statement), then using sample data to determine whether there's enough evidence to reject the null hypothesis in favor of the alternative. Essentially, it's a way to test the validity of a claim about a population using statistical analysis of a sample.\n",
        "\n",
        "Q.2 What is the null hypothesis, and how does it differ from the alternative hypothesis?\n",
        "\n",
        "Ans- The null hypothesis is a statement of \"no effect\" or \"no difference,\" while the alternative hypothesis is a statement that contradicts the null hypothesis, suggesting there is a significant effect or difference. Essentially, the null hypothesis assumes any observed differences are due to random chance, whereas the alternative hypothesis suggests the differences are due to a real effect.\n",
        "Null Hypothesis (H0):\n",
        "It's a statement of no effect or no relationship between variables.\n",
        "It's what researchers try to disprove or reject.\n",
        "It often includes an equality statement (e.g., =, ≤, or ≥).\n",
        "For example, \"There is no difference in test scores between students who study with flashcards and those who don't.\"\n",
        "Alternative Hypothesis (Ha or H1):\n",
        "It's a statement that contradicts the null hypothesis.\n",
        "It's what researchers are trying to prove or find evidence for.\n",
        "It typically uses inequality symbols (≠, <, or >).\n",
        "For example, \"There is a difference in test scores between students who study with flashcards and those who don't.\"\n",
        "\n",
        "Q.3 Explain the significance level in hypothesis testing and its role in deciding the outcome of a test.\n",
        "\n",
        "Ans- In hypothesis testing, the significance level (often denoted as alpha, α) is a threshold that determines whether to reject the null hypothesis. It represents the maximum probability of making a Type I error, which is rejecting the null hypothesis when it is actually true. Essentially, it sets the standard for how much evidence is needed to conclude that the observed results are unlikely due to random chance and therefore statistically significant.\n",
        "\n",
        "Q.4 What are Type I and Type II errors? Give examples of each.\n",
        "\n",
        "Ans- In hypothesis testing, Type I and Type II errors are two types of mistakes that can occur when making a decision about a null hypothesis. A Type I error (false positive) occurs when the null hypothesis is incorrectly rejected when it is actually true. A Type II error (false negative) occurs when the null hypothesis is incorrectly not rejected when it is actually false.\n",
        "Examples:\n",
        "Type I Error (False Positive):\n",
        "Scenario:A drug is being tested for effectiveness. The null hypothesis is that the drug is not effective.\n",
        "Error:The researchers conclude that the drug is effective (rejecting the null hypothesis) when, in reality, it has no effect.\n",
        "Type II Error (False Negative):\n",
        "Scenario:A drug is being tested for effectiveness. The null hypothesis is that the drug is not effective.\n",
        "Error:The researchers fail to find evidence that the drug is effective (failing to reject the null hypothesis) when, in fact, it is effective.\n",
        "\n",
        "Q.5 What is the difference between a Z-test and a T-test? Explain when to use each.\n",
        "\n",
        "Ans- The main difference between a Z-test and a T-test lies in the knowledge of the population standard deviation and the sample size.\n",
        "Z-tests are used when the population standard deviation is known and the sample size is large(>30), while T-tests are used when the population standard deviation is unknown and/or the sample size is small(<30).\n",
        "\n"
      ],
      "metadata": {
        "id": "tpxCQoijvgj3"
      }
    },
    {
      "cell_type": "code",
      "metadata": {
        "colab": {
          "base_uri": "https://localhost:8080/",
          "height": 472
        },
        "id": "c90c4d37",
        "outputId": "ae0f1832-9fd8-4b9a-efe2-aada08ee6749"
      },
      "source": [
        "# Q.6 Write a Python program to generate a binomial distribution with n=10 and p=0.5, then plot its histogram.\n",
        "\n",
        "import numpy as np\n",
        "import matplotlib.pyplot as plt\n",
        "\n",
        "n = 10  # number of trials\n",
        "p = 0.5 # probability of success\n",
        "\n",
        "# Generate binomial distribution data\n",
        "binomial_data = np.random.binomial(n, p, 1000) # Generate 1000 data points\n",
        "\n",
        "plt.hist(binomial_data, bins=np.arange(n+2)-0.5, density=True, alpha=0.75)\n",
        "plt.xlabel(\"Number of successes\")\n",
        "plt.ylabel(\"Probability\")\n",
        "plt.title(\"Binomial Distribution (n=10, p=0.5)\")\n",
        "plt.xticks(np.arange(n+1))\n",
        "plt.grid(True)\n",
        "plt.show()"
      ],
      "execution_count": 1,
      "outputs": [
        {
          "output_type": "display_data",
          "data": {
            "text/plain": [
              "<Figure size 640x480 with 1 Axes>"
            ],
            "image/png": "[encoded data removed]"
          },
          "metadata": {}
        }
      ]
    },
    {
      "cell_type": "code",
      "metadata": {
        "colab": {
          "base_uri": "https://localhost:8080/"
        },
        "id": "4666b78d",
        "outputId": "71eac423-d068-4893-e628-2e9038fcd4a8"
      },
      "source": [
        "# Q.7 Implement hypothesis testing using Z-statistics for a sample dataset in Python. Show the Python code and interpret the results. sample_data = [49.1, 50.2, 51.0, 48.7, 50.5, 49.8, 50.3, 50.7, 50.2, 49.6,                         50.1, 49.9, 50.8, 50.4, 48.9, 50.6, 50.0, 49.7, 50.2, 49.5,                         50.1, 50.3, 50.4, 50.5, 50.0, 50.7, 49.3, 49.8, 50.2, 50.9,                         50.3, 50.4, 50.0, 49.7, 50.5, 49.9]\n",
        "from scipy.stats import norm\n",
        "\n",
        "sample_data = [49.1, 50.2, 51.0, 48.7, 50.5, 49.8, 50.3, 50.7, 50.2, 49.6, 50.1, 49.9, 50.8, 50.4, 48.9, 50.6, 50.0, 49.7, 50.2, 49.5, 50.1, 50.3, 50.4, 50.5, 50.0, 50.7, 49.3, 49.8, 50.2, 50.9, 50.3, 50.4, 50.0, 49.7, 50.5, 49.9]\n",
        "mu = 50\n",
        "sigma = 1\n",
        "alpha = 0.05\n",
        "\n",
        "sample_mean = np.mean(sample_data)\n",
        "n = len(sample_data)\n",
        "standard_error = sigma / np.sqrt(n)\n",
        "z_statistic = (sample_mean - mu) / standard_error\n",
        "p_value = 2 * (1 - norm.cdf(abs(z_statistic)))\n",
        "\n",
        "print(f\"Sample Mean: {sample_mean}\")\n",
        "print(f\"Z-statistic: {z_statistic}\")\n",
        "print(f\"P-value: {p_value}\")\n",
        "print(f\"Significance Level (alpha): {alpha}\")\n",
        "\n",
        "if p_value < alpha:\n",
        "    print(\"Conclusion: Reject the null hypothesis.\")\n",
        "    print(\"Reason: The p-value is less than the significance level.\")\n",
        "    print(\"Interpretation: There is enough statistically significant evidence to conclude that the population mean is different from 50.\")\n",
        "else:\n",
        "    print(\"Conclusion: Fail to reject the null hypothesis.\")\n",
        "    print(\"Reason: The p-value is greater than or equal to the significance level.\")\n",
        "    print(\"Interpretation: There is not enough statistically significant evidence to conclude that the population mean is different from 50.\")"
      ],
      "execution_count": 9,
      "outputs": [
        {
          "output_type": "stream",
          "name": "stdout",
          "text": [
            "Sample Mean: 50.08888888888889\n",
            "Z-statistic: 0.5333333333333314\n",
            "P-value: 0.5938028572077036\n",
            "Significance Level (alpha): 0.05\n",
            "Conclusion: Fail to reject the null hypothesis.\n",
            "Reason: The p-value is greater than or equal to the significance level.\n",
            "Interpretation: There is not enough statistically significant evidence to conclude that the population mean is different from 50.\n"
          ]
        }
      ]
    },
    {
      "cell_type": "code",
      "metadata": {
        "colab": {
          "base_uri": "https://localhost:8080/"
        },
        "id": "0ede8243",
        "outputId": "9c8e6263-7b27-45f9-9218-20465bd8b025"
      },
      "source": [
        "print(\"Conclusion:\")\n",
        "print(\"Since the p-value (approximately 0.594) is greater than the significance level (alpha = 0.05), we fail to reject the null hypothesis.\")\n",
        "print(\"In the context of the problem, this means that there is not enough statistically significant evidence at the 0.05 significance level to conclude that the population mean is different from 50.\")\n",
        "print(\"Based on the sample data, we do not have sufficient evidence to support the alternative hypothesis that the population mean is not equal to 50.\")"
      ],
      "execution_count": 8,
      "outputs": [
        {
          "output_type": "stream",
          "name": "stdout",
          "text": [
            "Conclusion:\n",
            "Since the p-value (approximately 0.594) is greater than the significance level (alpha = 0.05), we fail to reject the null hypothesis.\n",
            "In the context of the problem, this means that there is not enough statistically significant evidence at the 0.05 significance level to conclude that the population mean is different from 50.\n",
            "Based on the sample data, we do not have sufficient evidence to support the alternative hypothesis that the population mean is not equal to 50.\n"
          ]
        }
      ]
    },
    {
      "cell_type": "code",
      "metadata": {
        "colab": {
          "base_uri": "https://localhost:8080/"
        },
        "id": "0a2b5ee6",
        "outputId": "81dc6cef-68d5-4a7e-b3ab-67fdb2ae5f74"
      },
      "source": [
        "if p_value < alpha:\n",
        "    decision = \"Reject the null hypothesis\"\n",
        "    reason = \"The p-value is less than the significance level (alpha).\"\n",
        "else:\n",
        "    decision = \"Fail to reject the null hypothesis\"\n",
        "    reason = \"The p-value is greater than or equal to the significance level (alpha).\"\n",
        "\n",
        "print(f\"Decision: {decision}\")\n",
        "print(f\"Reason: {reason}\")"
      ],
      "execution_count": 7,
      "outputs": [
        {
          "output_type": "stream",
          "name": "stdout",
          "text": [
            "Decision: Fail to reject the null hypothesis\n",
            "Reason: The p-value is greater than or equal to the significance level (alpha).\n"
          ]
        }
      ]
    },
    {
      "cell_type": "code",
      "metadata": {
        "colab": {
          "base_uri": "https://localhost:8080/"
        },
        "id": "3bcc88de",
        "outputId": "69b8c663-a70f-4797-af2e-dd70da604222"
      },
      "source": [
        "from scipy.stats import norm\n",
        "\n",
        "# Calculate the p-value for a two-tailed test\n",
        "p_value = 2 * (1 - norm.cdf(abs(z_statistic)))\n",
        "\n",
        "print(f\"P-value: {p_value}\")"
      ],
      "execution_count": 6,
      "outputs": [
        {
          "output_type": "stream",
          "name": "stdout",
          "text": [
            "P-value: 0.5938028572077036\n"
          ]
        }
      ]
    },
    {
      "cell_type": "code",
      "metadata": {
        "colab": {
          "base_uri": "https://localhost:8080/"
        },
        "id": "783bdada",
        "outputId": "703343de-5db0-45cf-b382-70f1bcde8998"
      },
      "source": [
        "mu = 50\n",
        "sigma = 1\n",
        "n = len(sample_data)\n",
        "\n",
        "standard_error = sigma / np.sqrt(n)\n",
        "\n",
        "z_statistic = (sample_mean - mu) / standard_error\n",
        "\n",
        "print(f\"Hypothesized Population Mean (mu): {mu}\")\n",
        "print(f\"Population Standard Deviation (sigma): {sigma}\")\n",
        "print(f\"Sample Size (n): {n}\")\n",
        "print(f\"Standard Error: {standard_error}\")\n",
        "print(f\"Z-statistic: {z_statistic}\")"
      ],
      "execution_count": 5,
      "outputs": [
        {
          "output_type": "stream",
          "name": "stdout",
          "text": [
            "Hypothesized Population Mean (mu): 50\n",
            "Population Standard Deviation (sigma): 1\n",
            "Sample Size (n): 36\n",
            "Standard Error: 0.16666666666666666\n",
            "Z-statistic: 0.5333333333333314\n"
          ]
        }
      ]
    },
    {
      "cell_type": "code",
      "metadata": {
        "colab": {
          "base_uri": "https://localhost:8080/"
        },
        "id": "778705aa",
        "outputId": "ecb8dbd3-9549-4dde-8566-d9cb916349a9"
      },
      "source": [
        "import numpy as np\n",
        "\n",
        "sample_data = [49.1, 50.2, 51.0, 48.7, 50.5, 49.8, 50.3, 50.7, 50.2, 49.6, 50.1, 49.9, 50.8, 50.4, 48.9, 50.6, 50.0, 49.7, 50.2, 49.5, 50.1, 50.3, 50.4, 50.5, 50.0, 50.7, 49.3, 49.8, 50.2, 50.9, 50.3, 50.4, 50.0, 49.7, 50.5, 49.9]\n",
        "\n",
        "sample_mean = np.mean(sample_data)\n",
        "sample_std = np.std(sample_data, ddof=1) # Use ddof=1 for sample standard deviation\n",
        "\n",
        "print(f\"Sample Mean: {sample_mean}\")\n",
        "print(f\"Sample Standard Deviation: {sample_std}\")"
      ],
      "execution_count": 4,
      "outputs": [
        {
          "output_type": "stream",
          "name": "stdout",
          "text": [
            "Sample Mean: 50.08888888888889\n",
            "Sample Standard Deviation: 0.5365379910807955\n"
          ]
        }
      ]
    },
    {
      "cell_type": "code",
      "metadata": {
        "colab": {
          "base_uri": "https://localhost:8080/"
        },
        "id": "cd9edbdf",
        "outputId": "fe44a312-9e6b-46d8-b248-6c598488cf7a"
      },
      "source": [
        "alpha = 0.05\n",
        "print(f\"Chosen significance level (alpha): {alpha}\")"
      ],
      "execution_count": 3,
      "outputs": [
        {
          "output_type": "stream",
          "name": "stdout",
          "text": [
            "Chosen significance level (alpha): 0.05\n"
          ]
        }
      ]
    },
    {
      "cell_type": "code",
      "metadata": {
        "colab": {
          "base_uri": "https://localhost:8080/"
        },
        "id": "09544fad",
        "outputId": "03b1bf34-bb23-4bef-c79a-1ccf2774d5e3"
      },
      "source": [
        "# Null Hypothesis (H0)\n",
        "# The null hypothesis states that the population mean is equal to 50.\n",
        "# H0: μ = 50\n",
        "\n",
        "# Alternative Hypothesis (H1)\n",
        "# The alternative hypothesis states that the population mean is not equal to 50.\n",
        "# Since the problem does not specify a direction (e.g., greater than or less than 50),\n",
        "# this will be a two-tailed test.\n",
        "# H1: μ ≠ 50\n",
        "\n",
        "print(\"Null Hypothesis (H0): The population mean is equal to 50 (μ = 50).\")\n",
        "print(\"Alternative Hypothesis (H1): The population mean is not equal to 50 (μ ≠ 50).\")"
      ],
      "execution_count": 2,
      "outputs": [
        {
          "output_type": "stream",
          "name": "stdout",
          "text": [
            "Null Hypothesis (H0): The population mean is equal to 50 (μ = 50).\n",
            "Alternative Hypothesis (H1): The population mean is not equal to 50 (μ ≠ 50).\n"
          ]
        }
      ]
    },
    {
      "cell_type": "code",
      "metadata": {
        "colab": {
          "base_uri": "https://localhost:8080/"
        },
        "id": "208a4e0d",
        "outputId": "125b5aa2-298c-440f-db4a-9a891abb002a"
      },
      "source": [
        "#Q.8 Write a Python script to simulate data from a normal distribution and calculate the 95% confidence interval for its mean. Plot the data using Matplotlib.\n",
        "\n",
        "import numpy as np\n",
        "\n",
        "mu = 10  # Mean\n",
        "sigma = 2 # Standard deviation\n",
        "n = 1000 # Number of data points\n",
        "\n",
        "simulated_data = np.random.normal(mu, sigma, n)\n",
        "\n",
        "print(f\"Generated {n} data points from a normal distribution with mean={mu} and standard deviation={sigma}.\")\n",
        "print(\"First 10 data points:\", simulated_data[:10])"
      ],
      "execution_count": 10,
      "outputs": [
        {
          "output_type": "stream",
          "name": "stdout",
          "text": [
            "Generated 1000 data points from a normal distribution with mean=10 and standard deviation=2.\n",
            "First 10 data points: [12.78366299  5.18240398  9.31541782 10.32132947 11.22392696  9.29663177\n",
            "  9.53985491  7.45666968 11.08782858  9.31446569]\n"
          ]
        }
      ]
    },
    {
      "cell_type": "code",
      "metadata": {
        "colab": {
          "base_uri": "https://localhost:8080/"
        },
        "id": "0dcbebca",
        "outputId": "423572f1-1360-458a-be25-c3b3f0b293ff"
      },
      "source": [
        "sample_mean = np.mean(simulated_data)\n",
        "sample_std = np.std(simulated_data, ddof=1)\n",
        "\n",
        "print(f\"Sample Mean: {sample_mean}\")\n",
        "print(f\"Sample Standard Deviation: {sample_std}\")"
      ],
      "execution_count": 11,
      "outputs": [
        {
          "output_type": "stream",
          "name": "stdout",
          "text": [
            "Sample Mean: 10.135702115966696\n",
            "Sample Standard Deviation: 2.050474589142208\n"
          ]
        }
      ]
    },
    {
      "cell_type": "code",
      "metadata": {
        "colab": {
          "base_uri": "https://localhost:8080/"
        },
        "id": "38354374",
        "outputId": "ab22b555-097b-4b00-8534-6ecdef7a6f3e"
      },
      "source": [
        "from scipy.stats import norm\n",
        "\n",
        "confidence_level = 0.95\n",
        "alpha = 1 - confidence_level\n",
        "alpha_two_tailed = alpha / 2\n",
        "\n",
        "critical_z_value = norm.ppf(1 - alpha_two_tailed)\n",
        "\n",
        "print(f\"Confidence Level: {confidence_level}\")\n",
        "print(f\"Alpha (Significance Level): {alpha}\")\n",
        "print(f\"Alpha for two-tailed test: {alpha_two_tailed}\")\n",
        "print(f\"Critical Z-value for 95% Confidence Interval: {critical_z_value}\")"
      ],
      "execution_count": 12,
      "outputs": [
        {
          "output_type": "stream",
          "name": "stdout",
          "text": [
            "Confidence Level: 0.95\n",
            "Alpha (Significance Level): 0.050000000000000044\n",
            "Alpha for two-tailed test: 0.025000000000000022\n",
            "Critical Z-value for 95% Confidence Interval: 1.959963984540054\n"
          ]
        }
      ]
    },
    {
      "cell_type": "code",
      "metadata": {
        "colab": {
          "base_uri": "https://localhost:8080/"
        },
        "id": "90c48a55",
        "outputId": "3ce112d0-bf3d-4083-ab6c-fecceaaf1d6a"
      },
      "source": [
        "# Calculate the standard error\n",
        "standard_error = sample_std / np.sqrt(n)\n",
        "\n",
        "# Calculate the margin of error\n",
        "margin_of_error = critical_z_value * standard_error\n",
        "\n",
        "print(f\"Standard Error: {standard_error}\")\n",
        "print(f\"Margin of Error: {margin_of_error}\")"
      ],
      "execution_count": 13,
      "outputs": [
        {
          "output_type": "stream",
          "name": "stdout",
          "text": [
            "Standard Error: 0.0648416998598734\n",
            "Margin of Error: 0.12708739642170772\n"
          ]
        }
      ]
    },
    {
      "cell_type": "code",
      "metadata": {
        "colab": {
          "base_uri": "https://localhost:8080/"
        },
        "id": "2b7a60d1",
        "outputId": "8f490869-7bd0-4962-e760-458719ade5e3"
      },
      "source": [
        "# Calculate the lower bound of the confidence interval\n",
        "lower_bound = sample_mean - margin_of_error\n",
        "\n",
        "# Calculate the upper bound of the confidence interval\n",
        "upper_bound = sample_mean + margin_of_error\n",
        "\n",
        "# Print the confidence interval\n",
        "print(f\"95% Confidence Interval for the Mean: ({lower_bound:.4f}, {upper_bound:.4f})\")"
      ],
      "execution_count": 14,
      "outputs": [
        {
          "output_type": "stream",
          "name": "stdout",
          "text": [
            "95% Confidence Interval for the Mean: (10.0086, 10.2628)\n"
          ]
        }
      ]
    },
    {
      "cell_type": "code",
      "metadata": {
        "colab": {
          "base_uri": "https://localhost:8080/",
          "height": 472
        },
        "id": "f3c0acc7",
        "outputId": "ef48d994-0b24-44cc-eb11-90f2a36f6e04"
      },
      "source": [
        "#\n",
        "import matplotlib.pyplot as plt\n",
        "\n",
        "plt.hist(simulated_data, bins=30)\n",
        "plt.title(\"Distribution of Simulated Data\")\n",
        "plt.xlabel(\"Value\")\n",
        "plt.ylabel(\"Frequency\")\n",
        "plt.show()"
      ],
      "execution_count": 15,
      "outputs": [
        {
          "output_type": "display_data",
          "data": {
            "text/plain": [
              "<Figure size 640x480 with 1 Axes>"
            ],
            "image/png": "[encoded data removed]"
          },
          "metadata": {}
        }
      ]
    },
    {
      "cell_type": "code",
      "metadata": {
        "colab": {
          "base_uri": "https://localhost:8080/",
          "height": 472
        },
        "id": "2965edff",
        "outputId": "38f884be-4247-476a-aced-033b7723886f"
      },
      "source": [
        "plt.hist(simulated_data, bins=30)\n",
        "plt.title(\"Distribution of Simulated Data\")\n",
        "plt.xlabel(\"Value\")\n",
        "plt.ylabel(\"Frequency\")\n",
        "\n",
        "# Add a vertical line for the sample mean\n",
        "plt.axvline(sample_mean, color='red', linestyle='dashed', linewidth=2, label=f'Sample Mean: {sample_mean:.2f}')\n",
        "\n",
        "# Add vertical lines for the confidence interval bounds\n",
        "plt.axvline(lower_bound, color='green', linestyle='dashed', linewidth=2, label=f'95% CI: ({lower_bound:.2f}, {upper_bound:.2f})')\n",
        "plt.axvline(upper_bound, color='green', linestyle='dashed', linewidth=2)\n",
        "\n",
        "# Add a legend to the plot\n",
        "plt.legend()\n",
        "\n",
        "plt.show()"
      ],
      "execution_count": 16,
      "outputs": [
        {
          "output_type": "display_data",
          "data": {
            "text/plain": [
              "<Figure size 640x480 with 1 Axes>"
            ],
            "image/png": "[encoded data removed]"
          },
          "metadata": {}
        }
      ]
    },
    {
      "cell_type": "code",
      "metadata": {
        "id": "e15811a7"
      },
      "source": [
        "# 9  Write a Python function to calculate the Z-scores from a dataset and visualize the standardized data using a histogram. Explain what the Z-scores represent in terms of standard deviations from the mean.\n",
        "\n",
        "import numpy as np\n",
        "\n",
        "def calculate_z_scores(data):\n",
        "    \"\"\"\n",
        "    Calculates the Z-scores for each data point in a dataset.\n",
        "\n",
        "    Args:\n",
        "        data: A list or NumPy array representing the dataset.\n",
        "\n",
        "    Returns:\n",
        "        A NumPy array containing the calculated Z-scores.\n",
        "    \"\"\"\n",
        "    data = np.array(data) # Ensure data is a NumPy array\n",
        "    mean = np.mean(data)\n",
        "    std_dev = np.std(data, ddof=1) # Assuming sample standard deviation\n",
        "\n",
        "    # Avoid division by zero if standard deviation is 0\n",
        "    if std_dev == 0:\n",
        "        return np.zeros_like(data)\n",
        "\n",
        "    z_scores = (data - mean) / std_dev\n",
        "    return z_scores\n"
      ],
      "execution_count": 17,
      "outputs": []
    },
    {
      "cell_type": "code",
      "metadata": {
        "colab": {
          "base_uri": "https://localhost:8080/"
        },
        "id": "8a5db074",
        "outputId": "a7ba4edf-8082-4d7a-b69f-bc7dee45d0c1"
      },
      "source": [
        "sample_data = [49.1, 50.2, 51.0, 48.7, 50.5, 49.8, 50.3, 50.7, 50.2, 49.6,\n",
        "               50.1, 49.9, 50.8, 50.4, 48.9, 50.6, 50.0, 49.7, 50.2, 49.5,\n",
        "               50.1, 50.3, 50.4, 50.5, 50.0, 50.7, 49.3, 49.8, 50.2, 50.9,\n",
        "               50.3, 50.4, 50.0, 49.7, 50.5, 49.9]\n",
        "\n",
        "z_scores = calculate_z_scores(sample_data)\n",
        "\n",
        "print(\"Calculated Z-scores:\")\n",
        "print(z_scores)"
      ],
      "execution_count": 18,
      "outputs": [
        {
          "output_type": "stream",
          "name": "stdout",
          "text": [
            "Calculated Z-scores:\n",
            "[-1.84309202  0.20708899  1.69812972 -2.58861239  0.76622927 -0.53843138\n",
            "  0.39346908  1.13898945  0.20708899 -0.91119156  0.0207089  -0.35205128\n",
            "  1.32536954  0.57984917 -2.2158522   0.95260936 -0.16567119 -0.72481147\n",
            "  0.20708899 -1.09757165  0.0207089   0.39346908  0.57984917  0.76622927\n",
            " -0.16567119  1.13898945 -1.47033183 -0.53843138  0.20708899  1.51174963\n",
            "  0.39346908  0.57984917 -0.16567119 -0.72481147  0.76622927 -0.35205128]\n"
          ]
        }
      ]
    },
    {
      "cell_type": "code",
      "metadata": {
        "colab": {
          "base_uri": "https://localhost:8080/",
          "height": 472
        },
        "id": "2ec17d21",
        "outputId": "c518d49e-3eeb-4370-c2e4-d93c64ea6e6f"
      },
      "source": [
        "import matplotlib.pyplot as plt\n",
        "\n",
        "plt.hist(z_scores, bins=30)\n",
        "plt.title(\"Distribution of Z-scores\")\n",
        "plt.xlabel(\"Z-score\")\n",
        "plt.ylabel(\"Frequency\")\n",
        "plt.show()"
      ],
      "execution_count": 19,
      "outputs": [
        {
          "output_type": "display_data",
          "data": {
            "text/plain": [
              "<Figure size 640x480 with 1 Axes>"
            ],
            "image/png": "[encoded data removed]"
          },
          "metadata": {}
        }
      ]
    },
    {
      "cell_type": "code",
      "metadata": {
        "colab": {
          "base_uri": "https://localhost:8080/"
        },
        "id": "1c3a6c2f",
        "outputId": "69dac5ec-a102-44c5-8209-37c0538bb617"
      },
      "source": [
        "print(\"Explanation of Z-scores:\")\n",
        "print(\"A Z-score measures how many standard deviations a particular data point is away from the mean of the dataset.\")\n",
        "print(\"\\nKey aspects of Z-scores:\")\n",
        "print(\"1. Standard Deviations from the Mean: A Z-score of 1 means the data point is one standard deviation above the mean. A Z-score of -1 means the data point is one standard deviation below the mean. A Z-score of 0 means the data point is exactly at the mean.\")\n",
        "print(\"2. Positive and Negative Z-scores: Positive Z-scores indicate that the data point is greater than the mean, while negative Z-scores indicate that the data point is less than the mean.\")\n",
        "print(\"3. Standard Normal Distribution: When a dataset is standardized by converting its data points to Z-scores, the resulting distribution is the standard normal distribution. This distribution has a mean of 0 and a standard deviation of 1.\")\n",
        "print(\"\\nIn summary, Z-scores allow us to compare data points from different datasets because they are on a standardized scale, indicating their position relative to the mean in terms of standard deviations.\")"
      ],
      "execution_count": 20,
      "outputs": [
        {
          "output_type": "stream",
          "name": "stdout",
          "text": [
            "Explanation of Z-scores:\n",
            "A Z-score measures how many standard deviations a particular data point is away from the mean of the dataset.\n",
            "\n",
            "Key aspects of Z-scores:\n",
            "1. Standard Deviations from the Mean: A Z-score of 1 means the data point is one standard deviation above the mean. A Z-score of -1 means the data point is one standard deviation below the mean. A Z-score of 0 means the data point is exactly at the mean.\n",
            "2. Positive and Negative Z-scores: Positive Z-scores indicate that the data point is greater than the mean, while negative Z-scores indicate that the data point is less than the mean.\n",
            "3. Standard Normal Distribution: When a dataset is standardized by converting its data points to Z-scores, the resulting distribution is the standard normal distribution. This distribution has a mean of 0 and a standard deviation of 1.\n",
            "\n",
            "In summary, Z-scores allow us to compare data points from different datasets because they are on a standardized scale, indicating their position relative to the mean in terms of standard deviations.\n"
          ]
        }
      ]
    },
    {
      "cell_type": "code",
      "metadata": {
        "colab": {
          "base_uri": "https://localhost:8080/",
          "height": 648
        },
        "id": "ebce1847",
        "outputId": "81bfb908-e1ed-4eba-bfeb-55c2830ce05c"
      },
      "source": [
        "import numpy as np\n",
        "import matplotlib.pyplot as plt\n",
        "\n",
        "def calculate_z_scores(data):\n",
        "    \"\"\"\n",
        "    Calculates the Z-scores for each data point in a dataset.\n",
        "\n",
        "    Args:\n",
        "        data: A list or NumPy array representing the dataset.\n",
        "\n",
        "    Returns:\n",
        "        A NumPy array containing the calculated Z-scores.\n",
        "    \"\"\"\n",
        "    data = np.array(data)\n",
        "    mean = np.mean(data)\n",
        "    std_dev = np.std(data, ddof=1)\n",
        "\n",
        "    # Avoid division by zero if standard deviation is 0\n",
        "    if std_dev == 0:\n",
        "        return np.zeros_like(data)\n",
        "\n",
        "    z_scores = (data - mean) / std_dev\n",
        "    return z_scores\n",
        "\n",
        "sample_data = [49.1, 50.2, 51.0, 48.7, 50.5, 49.8, 50.3, 50.7, 50.2, 49.6,\n",
        "               50.1, 49.9, 50.8, 50.4, 48.9, 50.6, 50.0, 49.7, 50.2, 49.5,\n",
        "               50.1, 50.3, 50.4, 50.5, 50.0, 50.7, 49.3, 49.8, 50.2, 50.9,\n",
        "               50.3, 50.4, 50.0, 49.7, 50.5, 49.9]\n",
        "\n",
        "z_scores = calculate_z_scores(sample_data)\n",
        "\n",
        "plt.hist(z_scores, bins=30)\n",
        "plt.title(\"Distribution of Z-scores\")\n",
        "plt.xlabel(\"Z-score\")\n",
        "plt.ylabel(\"Frequency\")\n",
        "plt.show()\n",
        "\n",
        "print(\"Explanation of Z-scores:\")\n",
        "print(\"A Z-score measures how many standard deviations a particular data point is away from the mean of the dataset.\")\n",
        "print(\"\\nKey aspects of Z-scores:\")\n",
        "print(\"1. Standard Deviations from the Mean: A Z-score of 1 means the data point is one standard deviation above the mean. A Z-score of -1 means the data point is one standard deviation below the mean. A Z-score of 0 means the data point is exactly at the mean.\")\n",
        "print(\"2. Positive and Negative Z-scores: Positive Z-scores indicate that the data point is greater than the mean, while negative Z-scores indicate that the data point is less than the mean.\")\n",
        "print(\"3. Standard Normal Distribution: When a dataset is standardized by converting its data points to Z-scores, the resulting distribution is the standard normal distribution. This distribution has a mean of 0 and a standard deviation of 1.\")\n",
        "print(\"\\nIn summary, Z-scores allow us to compare data points from different datasets because they are on a standardized scale, indicating their position relative to the mean in terms of standard deviations.\")"
      ],
      "execution_count": 21,
      "outputs": [
        {
          "output_type": "display_data",
          "data": {
            "text/plain": [
              "<Figure size 640x480 with 1 Axes>"
            ],
            "image/png": "[encoded data removed]"
          },
          "metadata": {}
        },
        {
          "output_type": "stream",
          "name": "stdout",
          "text": [
            "Explanation of Z-scores:\n",
            "A Z-score measures how many standard deviations a particular data point is away from the mean of the dataset.\n",
            "\n",
            "Key aspects of Z-scores:\n",
            "1. Standard Deviations from the Mean: A Z-score of 1 means the data point is one standard deviation above the mean. A Z-score of -1 means the data point is one standard deviation below the mean. A Z-score of 0 means the data point is exactly at the mean.\n",
            "2. Positive and Negative Z-scores: Positive Z-scores indicate that the data point is greater than the mean, while negative Z-scores indicate that the data point is less than the mean.\n",
            "3. Standard Normal Distribution: When a dataset is standardized by converting its data points to Z-scores, the resulting distribution is the standard normal distribution. This distribution has a mean of 0 and a standard deviation of 1.\n",
            "\n",
            "In summary, Z-scores allow us to compare data points from different datasets because they are on a standardized scale, indicating their position relative to the mean in terms of standard deviations.\n"
          ]
        }
      ]
    }
  ]
}